{
 "cells": [
  {
   "cell_type": "markdown",
   "metadata": {},
   "source": [
    "# How to Not Suck at Software Engineering \n",
    "## Tips and tricks to become a better coder"
   ]
  },
  {
   "cell_type": "markdown",
   "metadata": {},
   "source": [
    "## 1. Configure your development environment properly\n",
    "Your text editor or IDE are the main tools that you use when interacting with your code. You spend hours everyday working in these environments, so you might as well be comfortable with them.\n",
    "\n",
    "### Don't be afraid to experiment with different editors\n",
    "I use Vim as my main editor, but you should you something that you find comfortable to work with. Suggestions:\n",
    "* Vim\n",
    "* Emacs\n",
    "* Sublime Text\n",
    "* Atom\n",
    "* PyCharm\n",
    "* RStudio\n",
    "* Jupyter Notebook (properly configured for development)\n",
    "* Many others!!!\n",
    "\n",
    "### Configure your editor to your use casse\n",
    "If you use a specific language you want your editor to be configured such that it makes your life easier when developing in that language. Most editors are configurable and you can also install extensions specific to your language such as linters, syntax checkers and syntax highlighters. Cool projects to look at:\n",
    "* [vim-flake8](https://github.com/nvie/vim-flake8)\n",
    "* [syntastic](https://github.com/vim-syntastic/syntastic)\n",
    "* [lintr](https://github.com/jimhester/lintr)\n",
    "\n",
    "### Use a simple workflow\n",
    "Again this is dependent on you preferences, but simpler is better. For me I use Vim and Tmux for development and Jupyter Notebook for data analysis and literate programming."
   ]
  },
  {
   "cell_type": "markdown",
   "metadata": {},
   "source": [
    "## 2. Understand the language that you work with properly\n",
    "You usually pick a langauge to code in either because you like the syntax and the programming paradigm of that language, or because you need to use specific features relevant to your use case. Either way, it is important to have a not so shallow understanding of the language.\n",
    "\n",
    "### Understand the basic data structures\n",
    "Most languages implement a set of basic data structures. It is important to understand those and their language specific implementation and use cases. For instance, Python has 4 basic data structures:\n",
    "* Lists\n",
    "* Tuples\n",
    "* Sets\n",
    "* Dictionaries\n",
    "\n",
    "Example why this is important:"
   ]
  },
  {
   "cell_type": "code",
   "execution_count": 1,
   "metadata": {},
   "outputs": [
    {
     "name": "stdout",
     "output_type": "stream",
     "text": [
      "38.3 ms ± 734 µs per loop (mean ± std. dev. of 7 runs, 10 loops each)\n",
      "236 µs ± 14.5 µs per loop (mean ± std. dev. of 7 runs, 1000 loops each)\n"
     ]
    }
   ],
   "source": [
    "import random\n",
    "\n",
    "N = [random.randint(0, 10000) for j in range(1000)]\n",
    "\n",
    "items_list = list(range(1000))\n",
    "items_set = set(range(1000))\n",
    "\n",
    "# Notice the units!!!\n",
    "%timeit [(i in items_list) for i in N] #Slower O(n)\n",
    "%timeit [(i in items_set) for i in N] #Faster O(1)"
   ]
  },
  {
   "cell_type": "markdown",
   "metadata": {},
   "source": [
    "### Understand the programming paradigms and best practices of your language\n",
    "It is important to understand the programming paradigm of the language you are using because this gives you an indication of what you can and cannot do in that language and how to go about implementing your programs. Some languages support multiple paradigms like Python and R, some don't like Haskell. Following the best practices in your language saves you lots of headaches and makes your code more understandable and sometimes faster!\n",
    "\n",
    "### Don't be afraid to learn about advanced features\n",
    "Every language comes with a basic set of features as well as more advanced ones. After mastering the simple stuff, you should look into learning more about the advanced stuff. Example, Python decorators:"
   ]
  },
  {
   "cell_type": "code",
   "execution_count": 2,
   "metadata": {},
   "outputs": [
    {
     "name": "stdout",
     "output_type": "stream",
     "text": [
      "Hello World!!!\n"
     ]
    }
   ],
   "source": [
    "def hello_world():\n",
    "    print('Hello World!!!')\n",
    "\n",
    "hello_world()"
   ]
  },
  {
   "cell_type": "code",
   "execution_count": 3,
   "metadata": {},
   "outputs": [],
   "source": [
    "def decor(f):\n",
    "    def nice_decorations():\n",
    "        print('*'*14)\n",
    "        f()\n",
    "        print('*'*14)\n",
    "    return nice_decorations"
   ]
  },
  {
   "cell_type": "code",
   "execution_count": 4,
   "metadata": {},
   "outputs": [
    {
     "name": "stdout",
     "output_type": "stream",
     "text": [
      "**************\n",
      "Hello World!!!\n",
      "**************\n"
     ]
    }
   ],
   "source": [
    "@decor\n",
    "def hello_world():\n",
    "    print('Hello World!!!')\n",
    "\n",
    "hello_world()"
   ]
  },
  {
   "cell_type": "markdown",
   "metadata": {},
   "source": [
    "### Undestand the libraries you work with\n",
    "In addition to understanding the features of your language of choice, you should also aim to understand properly the libraries that you regularly use. This is important as many libraries have very powerful features that allow you to do things very efficiently, e.g. computing a distance matrix in numpy:"
   ]
  },
  {
   "cell_type": "code",
   "execution_count": 5,
   "metadata": {
    "scrolled": true
   },
   "outputs": [],
   "source": [
    "import numpy as np\n",
    "\n",
    "X = np.random.randn(100)"
   ]
  },
  {
   "cell_type": "code",
   "execution_count": 6,
   "metadata": {},
   "outputs": [],
   "source": [
    "# Naive way (MSc year)\n",
    "dist_naive = np.zeros((X.shape[0], X.shape[0]))\n",
    "for i in range(X.shape[0]):\n",
    "    for j in range(X.shape[0]):\n",
    "        if i <j:\n",
    "            dist_naive[i, j] = dist_naive[j, i] = (X[i]-X[j])**2"
   ]
  },
  {
   "cell_type": "code",
   "execution_count": 7,
   "metadata": {},
   "outputs": [],
   "source": [
    "# Smart way (end of first year Phd)\n",
    "dist_smart = (X[:, None] - X[None, :])**2"
   ]
  },
  {
   "cell_type": "code",
   "execution_count": 8,
   "metadata": {},
   "outputs": [
    {
     "data": {
      "text/plain": [
       "True"
      ]
     },
     "execution_count": 8,
     "metadata": {},
     "output_type": "execute_result"
    }
   ],
   "source": [
    "np.allclose(dist_naive, dist_smart)"
   ]
  },
  {
   "cell_type": "markdown",
   "metadata": {},
   "source": [
    "## Don't suck at version control\n",
    "Version control is very important when writing code, especially if it is a big coding project. Version control allows you to track changes in your code and revert back to specific checkpoints if you need to. It also allows you to create a cloud backup of your project if you are using services like Github.\n",
    "\n",
    "### Learn basic `git` commands\n",
    "To get started all you need to know is:\n",
    "* `git add`\n",
    "* `git commit`\n",
    "* `git push`\n",
    "\n",
    "### Make it a habit to commit your changes\n",
    "You can start by commiting changes after every session of coding. Then move onto learning how to commit small chunks of your code so you are able to propely track all the changes.\n",
    "\n",
    "### Github is great, use it!\n",
    "Github provides you with more than just a backup space for your code. It has many great features that can be used for social networking, project management and collaboration. Also, checkout the [Github Flow](https://guides.github.com/introduction/flow/)!"
   ]
  },
  {
   "cell_type": "markdown",
   "metadata": {},
   "source": [
    "## Test your code\n",
    "This sounds very obvious, but you'd be surprised how many people fail at that. Ideally, you should test every section of code you write. This is called **unit testing**. The idea of unit testing is to breakup your code into units that are tested individually to make sure they are operating in the way you intend them to operate. \n",
    "\n",
    "### Learn about testing\n",
    "Testing is a very big topic and I encourage you to look more deeply into this on your own time. Here is a an example of a unit test in Python:"
   ]
  },
  {
   "cell_type": "code",
   "execution_count": 9,
   "metadata": {},
   "outputs": [],
   "source": [
    "def absolute_value(x):\n",
    "    if x > 0:\n",
    "        return x\n",
    "    elif x < 0:\n",
    "        return -x"
   ]
  },
  {
   "cell_type": "code",
   "execution_count": 10,
   "metadata": {},
   "outputs": [],
   "source": [
    "assert absolute_value(10)==10\n",
    "assert absolute_value(-10)==10"
   ]
  },
  {
   "cell_type": "code",
   "execution_count": 11,
   "metadata": {},
   "outputs": [
    {
     "ename": "AssertionError",
     "evalue": "",
     "output_type": "error",
     "traceback": [
      "\u001b[0;31m---------------------------------------------------------------------------\u001b[0m",
      "\u001b[0;31mAssertionError\u001b[0m                            Traceback (most recent call last)",
      "\u001b[0;32m<ipython-input-11-e399f9a27c43>\u001b[0m in \u001b[0;36m<module>\u001b[0;34m()\u001b[0m\n\u001b[0;32m----> 1\u001b[0;31m \u001b[0;32massert\u001b[0m \u001b[0mabsolute_value\u001b[0m\u001b[0;34m(\u001b[0m\u001b[0;36m0\u001b[0m\u001b[0;34m)\u001b[0m\u001b[0;34m==\u001b[0m\u001b[0;36m0\u001b[0m\u001b[0;34m\u001b[0m\u001b[0m\n\u001b[0m",
      "\u001b[0;31mAssertionError\u001b[0m: "
     ]
    }
   ],
   "source": [
    "assert absolute_value(0)==0"
   ]
  },
  {
   "cell_type": "code",
   "execution_count": 12,
   "metadata": {},
   "outputs": [
    {
     "ename": "TypeError",
     "evalue": "'>' not supported between instances of 'str' and 'int'",
     "output_type": "error",
     "traceback": [
      "\u001b[0;31m---------------------------------------------------------------------------\u001b[0m",
      "\u001b[0;31mTypeError\u001b[0m                                 Traceback (most recent call last)",
      "\u001b[0;32m<ipython-input-12-c986bee2c15b>\u001b[0m in \u001b[0;36m<module>\u001b[0;34m()\u001b[0m\n\u001b[0;32m----> 1\u001b[0;31m \u001b[0mabsolute_value\u001b[0m\u001b[0;34m(\u001b[0m\u001b[0;34m'person'\u001b[0m\u001b[0;34m)\u001b[0m\u001b[0;34m\u001b[0m\u001b[0m\n\u001b[0m",
      "\u001b[0;32m<ipython-input-9-75350d041d33>\u001b[0m in \u001b[0;36mabsolute_value\u001b[0;34m(x)\u001b[0m\n\u001b[1;32m      1\u001b[0m \u001b[0;32mdef\u001b[0m \u001b[0mabsolute_value\u001b[0m\u001b[0;34m(\u001b[0m\u001b[0mx\u001b[0m\u001b[0;34m)\u001b[0m\u001b[0;34m:\u001b[0m\u001b[0;34m\u001b[0m\u001b[0m\n\u001b[0;32m----> 2\u001b[0;31m     \u001b[0;32mif\u001b[0m \u001b[0mx\u001b[0m \u001b[0;34m>\u001b[0m \u001b[0;36m0\u001b[0m\u001b[0;34m:\u001b[0m\u001b[0;34m\u001b[0m\u001b[0m\n\u001b[0m\u001b[1;32m      3\u001b[0m         \u001b[0;32mreturn\u001b[0m \u001b[0mx\u001b[0m\u001b[0;34m\u001b[0m\u001b[0m\n\u001b[1;32m      4\u001b[0m     \u001b[0;32melif\u001b[0m \u001b[0mx\u001b[0m \u001b[0;34m<\u001b[0m \u001b[0;36m0\u001b[0m\u001b[0;34m:\u001b[0m\u001b[0;34m\u001b[0m\u001b[0m\n\u001b[1;32m      5\u001b[0m         \u001b[0;32mreturn\u001b[0m \u001b[0;34m-\u001b[0m\u001b[0mx\u001b[0m\u001b[0;34m\u001b[0m\u001b[0m\n",
      "\u001b[0;31mTypeError\u001b[0m: '>' not supported between instances of 'str' and 'int'"
     ]
    }
   ],
   "source": [
    "absolute_value('person')"
   ]
  },
  {
   "cell_type": "code",
   "execution_count": 13,
   "metadata": {},
   "outputs": [],
   "source": [
    "def absolute_value(x):\n",
    "    if (type(x) is not int) or (type(x) is not float):\n",
    "        raise ValueError('Only accepts real numbers')\n",
    "    if x > 0:\n",
    "        return x\n",
    "    elif x < 0:\n",
    "        return -x"
   ]
  },
  {
   "cell_type": "code",
   "execution_count": 14,
   "metadata": {},
   "outputs": [
    {
     "ename": "ValueError",
     "evalue": "Only accepts real numbers",
     "output_type": "error",
     "traceback": [
      "\u001b[0;31m---------------------------------------------------------------------------\u001b[0m",
      "\u001b[0;31mValueError\u001b[0m                                Traceback (most recent call last)",
      "\u001b[0;32m<ipython-input-14-c986bee2c15b>\u001b[0m in \u001b[0;36m<module>\u001b[0;34m()\u001b[0m\n\u001b[0;32m----> 1\u001b[0;31m \u001b[0mabsolute_value\u001b[0m\u001b[0;34m(\u001b[0m\u001b[0;34m'person'\u001b[0m\u001b[0;34m)\u001b[0m\u001b[0;34m\u001b[0m\u001b[0m\n\u001b[0m",
      "\u001b[0;32m<ipython-input-13-02df3ef90815>\u001b[0m in \u001b[0;36mabsolute_value\u001b[0;34m(x)\u001b[0m\n\u001b[1;32m      1\u001b[0m \u001b[0;32mdef\u001b[0m \u001b[0mabsolute_value\u001b[0m\u001b[0;34m(\u001b[0m\u001b[0mx\u001b[0m\u001b[0;34m)\u001b[0m\u001b[0;34m:\u001b[0m\u001b[0;34m\u001b[0m\u001b[0m\n\u001b[1;32m      2\u001b[0m     \u001b[0;32mif\u001b[0m \u001b[0;34m(\u001b[0m\u001b[0mtype\u001b[0m\u001b[0;34m(\u001b[0m\u001b[0mx\u001b[0m\u001b[0;34m)\u001b[0m \u001b[0;32mis\u001b[0m \u001b[0;32mnot\u001b[0m \u001b[0mint\u001b[0m\u001b[0;34m)\u001b[0m \u001b[0;32mor\u001b[0m \u001b[0;34m(\u001b[0m\u001b[0mtype\u001b[0m\u001b[0;34m(\u001b[0m\u001b[0mx\u001b[0m\u001b[0;34m)\u001b[0m \u001b[0;32mis\u001b[0m \u001b[0;32mnot\u001b[0m \u001b[0mfloat\u001b[0m\u001b[0;34m)\u001b[0m\u001b[0;34m:\u001b[0m\u001b[0;34m\u001b[0m\u001b[0m\n\u001b[0;32m----> 3\u001b[0;31m         \u001b[0;32mraise\u001b[0m \u001b[0mValueError\u001b[0m\u001b[0;34m(\u001b[0m\u001b[0;34m'Only accepts real numbers'\u001b[0m\u001b[0;34m)\u001b[0m\u001b[0;34m\u001b[0m\u001b[0m\n\u001b[0m\u001b[1;32m      4\u001b[0m     \u001b[0;32mif\u001b[0m \u001b[0mx\u001b[0m \u001b[0;34m>\u001b[0m \u001b[0;36m0\u001b[0m\u001b[0;34m:\u001b[0m\u001b[0;34m\u001b[0m\u001b[0m\n\u001b[1;32m      5\u001b[0m         \u001b[0;32mreturn\u001b[0m \u001b[0mx\u001b[0m\u001b[0;34m\u001b[0m\u001b[0m\n",
      "\u001b[0;31mValueError\u001b[0m: Only accepts real numbers"
     ]
    }
   ],
   "source": [
    "absolute_value('person')"
   ]
  },
  {
   "cell_type": "code",
   "execution_count": 15,
   "metadata": {},
   "outputs": [
    {
     "ename": "SyntaxError",
     "evalue": "invalid syntax (<ipython-input-15-a1bc88e9e5a0>, line 1)",
     "output_type": "error",
     "traceback": [
      "\u001b[0;36m  File \u001b[0;32m\"<ipython-input-15-a1bc88e9e5a0>\"\u001b[0;36m, line \u001b[0;32m1\u001b[0m\n\u001b[0;31m    assert absolute_value('person')==#ValueError\u001b[0m\n\u001b[0m                                                ^\u001b[0m\n\u001b[0;31mSyntaxError\u001b[0m\u001b[0;31m:\u001b[0m invalid syntax\n"
     ]
    }
   ],
   "source": [
    "assert absolute_value('person')==#ValueError"
   ]
  },
  {
   "cell_type": "code",
   "execution_count": 16,
   "metadata": {},
   "outputs": [],
   "source": [
    "from pytest import raises\n",
    "with raises(ValueError):\n",
    "    absolute_value('person')"
   ]
  },
  {
   "cell_type": "markdown",
   "metadata": {},
   "source": [
    "### Take time to actually write the tests\n",
    "Writing tests can be boring, but it is very important. It will save you massive time and headaches (and maybe heartaches!) down the line! Make it a habit to write tests after finishing every new bit of code."
   ]
  },
  {
   "cell_type": "markdown",
   "metadata": {},
   "source": [
    "## Final remarks\n",
    "\n",
    "### Don't feel overwhelmed\n",
    "You don't have to do everything perfectly at the begining!\n",
    "\n",
    "### Learn as you go\n",
    "It is boring to read manuals and documentation. Learn as you go. Turn your code into package and put it on Github and try to stick to best practices. You will not get it right the first time but who cares!\n",
    "\n",
    "### Dont' be afraid to break things\n",
    "The best way to learn to to fiddle around and break things. Just make sure you have a backup of the stuff you are breaking (again version control!!!)\n",
    "\n",
    "### Don't be afraid to go outside of your comfort zone!\n",
    "Someone very smart once told me that life begins outside of you comfort zone! I'd say that both in life and in programming, the best things happen outside of your comfort zone. If you want to learn how to code properly you cannot just stick to the stuff you learned in your MSc year!"
   ]
  },
  {
   "cell_type": "markdown",
   "metadata": {},
   "source": [
    "## Useful resources\n",
    "* [James Hetherington's excellent introduction to SE](http://github-pages.ucl.ac.uk/rsd-engineeringcourse/)\n",
    "* [How to package your Python code](http://python-packaging.readthedocs.io/en/latest/index.html)\n",
    "* [Advanced topics in Python](https://www.programiz.com/python-programming/iterator)"
   ]
  }
 ],
 "metadata": {
  "kernelspec": {
   "display_name": "Python 3",
   "language": "python",
   "name": "python3"
  },
  "language_info": {
   "codemirror_mode": {
    "name": "ipython",
    "version": 3
   },
   "file_extension": ".py",
   "mimetype": "text/x-python",
   "name": "python",
   "nbconvert_exporter": "python",
   "pygments_lexer": "ipython3",
   "version": "3.6.3"
  }
 },
 "nbformat": 4,
 "nbformat_minor": 2
}
